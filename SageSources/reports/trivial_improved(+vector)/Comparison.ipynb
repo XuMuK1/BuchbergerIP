{
 "cells": [
  {
   "cell_type": "markdown",
   "metadata": {},
   "source": [
    "# Сравнение Алгоритмов\n",
    "\n",
    "1. Алгоритм БГ с $t_0,...,t_n$\n",
    "2. Алгоритм БГ с LLL, и вычислением частного\n",
    "3. Их векторные версии\n",
    "4. --\n",
    "\n",
    "## Задача (пример Штурмфельса)\n",
    "\n",
    "Матрица $A$ и тестовые данные приведены ниже.\n",
    "\n",
    "Задача:\n",
    "\n",
    "$$\n",
    " w^Tu \\rightarrow min\\\\\n",
    " s.t. Au=b,\n",
    "$$\n",
    "\n",
    "где $w^T=[1,1,1,1,4,3,2,1,7,5,3,1,10,7,4,1],~b=[220,215,93,64,108,286,71,127]$. \n",
    "\n",
    "Оптимальный план:\n",
    "$$\n",
    "\\begin{bmatrix}\n",
    "108 & 112 & 0 & 0\\\\\n",
    "0 & 174 & 41 & 0\\\\\n",
    "0 & 0 & 30 & 63\\\\\n",
    "0 & 0 & 0 & 64\n",
    "\\end{bmatrix}\n",
    "$$\n",
    "\n",
    "$A$ -- матрица оператора суммирования по строкам и столбцам"
   ]
  },
  {
   "cell_type": "code",
   "execution_count": 25,
   "metadata": {
    "collapsed": false
   },
   "outputs": [
    {
     "data": {
      "text/plain": [
       "4"
      ]
     },
     "execution_count": 25,
     "metadata": {},
     "output_type": "execute_result"
    }
   ],
   "source": [
    "vec =vector([2,3,4,5])\n",
    "len(vec)"
   ]
  },
  {
   "cell_type": "code",
   "execution_count": 2,
   "metadata": {
    "collapsed": false
   },
   "outputs": [],
   "source": [
    "import time\n",
    "\n",
    "##initial data\n",
    "\n",
    "A=matrix([[1,1,1,1,0,0,0,0,0,0,0,0,0,0,0,0],\n",
    "          [0,0,0,0,1,1,1,1,0,0,0,0,0,0,0,0],\n",
    "          [0,0,0,0,0,0,0,0,1,1,1,1,0,0,0,0],\n",
    "          [0,0,0,0,0,0,0,0,0,0,0,0,1,1,1,1],\n",
    "          [1,0,0,0,1,0,0,0,1,0,0,0,1,0,0,0],\n",
    "          [0,1,0,0,0,1,0,0,0,1,0,0,0,1,0,0],\n",
    "          [0,0,1,0,0,0,1,0,0,0,1,0,0,0,1,0],\n",
    "          [0,0,0,1,0,0,0,1,0,0,0,1,0,0,0,1]])\n",
    "\n",
    "feasibleSolution=vector([68,119,26,7,\n",
    "        20,84,17,94,\n",
    "        15,54,14,10,\n",
    "        5,29,14,16])\n"
   ]
  },
  {
   "cell_type": "markdown",
   "metadata": {},
   "source": [
    "## Алгоритм 1"
   ]
  },
  {
   "cell_type": "code",
   "execution_count": 5,
   "metadata": {
    "collapsed": false
   },
   "outputs": [
    {
     "name": "stdout",
     "output_type": "stream",
     "text": [
      "Size of the Grobner basis of I_t: 127\n",
      "Size of the Valuable Grobner basis of I_t: 36\n",
      "Feasible Solution:(68, 119, 26, 7, 20, 84, 17, 94, 15, 54, 14, 10, 5, 29, 14, 16)\n",
      "Optimal Solution:\n",
      "x1^108*x2^112*x6^174*x7^41*x11^30*x12^63*x16^64\n",
      "0.320125818253\n"
     ]
    }
   ],
   "source": [
    "load(\"StandardGBIP.sage\")\n",
    "\n",
    "start = time.time()#measuring the time\n",
    "\n",
    "#first row is for t\n",
    "optimizationOrder=TermOrder('lex',9)+TermOrder('wdeglex',(\n",
    "                     1,1,1,1,\n",
    "                     4,3,2,1,\n",
    "                     7,5,3,1,\n",
    "                    10,7,4,1))\n",
    "feasibleSolution=vector([68,119,26,7,\n",
    "        20,84,17,94,\n",
    "        15,54,14,10,\n",
    "        5,29,14,16])\n",
    "\n",
    "StdGBIP.SolveOptimizationProblem(A,optimizationOrder,feasibleSolution)\n",
    "\n",
    "print(time.time() - start)#measuring the time"
   ]
  },
  {
   "cell_type": "markdown",
   "metadata": {
    "collapsed": true
   },
   "source": [
    "## Алгоритм 2"
   ]
  },
  {
   "cell_type": "code",
   "execution_count": 11,
   "metadata": {
    "collapsed": false
   },
   "outputs": [
    {
     "name": "stdout",
     "output_type": "stream",
     "text": [
      "t,x1,x2,x3,x4,x5,x6,x7,x8,x9,x10,x11,x12,x13,x14,x15,x16\n",
      "Size of the Grobner basis of I_t: 93\n",
      "Size of the Valuable Grobner basis of I_t: 36\n",
      "Feasible Solution:(68, 119, 26, 7, 20, 84, 17, 94, 15, 54, 14, 10, 5, 29, 14, 16)\n",
      "Optimal Solution:\n",
      "x1^108*x2^112*x6^174*x7^41*x11^30*x12^63*x16^64\n",
      "0.230621099472\n"
     ]
    }
   ],
   "source": [
    "load(\"QuotGBIP.sage\")\n",
    "\n",
    "start = time.time()#measuring the time\n",
    "\n",
    "#first row is for t\n",
    "optimizationOrder=TermOrder('wdeglex',(\n",
    "                     1,1,1,1,\n",
    "                     4,3,2,1,\n",
    "                     7,5,3,1,\n",
    "                    10,7,4,1))\n",
    "feasibleSolution=vector([68,119,26,7,\n",
    "        20,84,17,94,\n",
    "        15,54,14,10,\n",
    "        5,29,14,16])\n",
    "\n",
    "QuotGBIP.SolveOptimizationProblem(A,optimizationOrder,feasibleSolution)\n",
    "\n",
    "print(time.time() - start)#measuring the time"
   ]
  },
  {
   "cell_type": "markdown",
   "metadata": {},
   "source": [
    "## Алгоритм 3"
   ]
  },
  {
   "cell_type": "code",
   "execution_count": 42,
   "metadata": {
    "collapsed": false
   },
   "outputs": [
    {
     "name": "stdout",
     "output_type": "stream",
     "text": [
      "[ 1  0  0 -1  0  0  0  0  0  0  0  0 -1  0  0  1]\n",
      "[ 0  1  0 -1  0  0  0  0  0  0  0  0  0 -1  0  1]\n",
      "[ 0  0  1 -1  0  0  0  0  0  0  0  0  0  0 -1  1]\n",
      "[ 0  0  0  0  1  0  0 -1  0  0  0  0 -1  0  0  1]\n",
      "[ 0  0  0  0  0  1  0 -1  0  0  0  0  0 -1  0  1]\n",
      "[ 0  0  0  0  0  0  1 -1  0  0  0  0  0  0 -1  1]\n",
      "[ 0  0  0  0  0  0  0  0  1  0  0 -1 -1  0  0  1]\n",
      "[ 0  0  0  0  0  0  0  0  0  1  0 -1  0 -1  0  1]\n",
      "[ 0  0  0  0  0  0  0  0  0  0  1 -1  0  0 -1  1]\n",
      "Buchberger.....\n",
      "10\n",
      "33\n",
      "47\n",
      "59\n",
      "75\n",
      "95\n",
      "101\n",
      "103\n",
      "105\n",
      "107\n",
      "107\n",
      "Minimize....\n",
      "93\n",
      "Filtering...\n",
      "36\n",
      "(69, 119, 26, 6, 20, 84, 17, 94, 15, 54, 14, 10, 4, 29, 14, 17)\n",
      "(73, 121, 26, 0, 20, 88, 17, 90, 15, 54, 14, 10, 0, 23, 14, 27)\n",
      "(73, 121, 26, 0, 20, 98, 17, 80, 15, 54, 14, 10, 0, 13, 14, 37)\n",
      "(73, 121, 26, 0, 20, 108, 17, 70, 15, 54, 14, 10, 0, 3, 14, 47)\n",
      "(73, 121, 26, 0, 20, 111, 24, 60, 15, 54, 14, 10, 0, 0, 7, 57)\n",
      "(73, 121, 26, 0, 23, 111, 31, 50, 12, 54, 14, 13, 0, 0, 0, 64)\n",
      "(73, 121, 26, 0, 33, 111, 31, 40, 2, 54, 14, 23, 0, 0, 0, 64)\n",
      "(73, 121, 26, 0, 35, 119, 31, 30, 0, 46, 14, 33, 0, 0, 0, 64)\n",
      "(73, 121, 26, 0, 35, 129, 31, 20, 0, 36, 14, 43, 0, 0, 0, 64)\n",
      "(73, 121, 26, 0, 35, 139, 31, 10, 0, 26, 14, 53, 0, 0, 0, 64)\n",
      "(73, 121, 26, 0, 35, 149, 31, 0, 0, 16, 14, 63, 0, 0, 0, 64)\n",
      "(83, 111, 26, 0, 25, 159, 31, 0, 0, 16, 14, 63, 0, 0, 0, 64)\n",
      "(93, 101, 26, 0, 15, 169, 31, 0, 0, 16, 14, 63, 0, 0, 0, 64)\n",
      "(103, 91, 26, 0, 5, 179, 31, 0, 0, 16, 14, 63, 0, 0, 0, 64)\n",
      "(108, 91, 21, 0, 0, 179, 36, 0, 0, 16, 14, 63, 0, 0, 0, 64)\n",
      "(108, 101, 11, 0, 0, 169, 46, 0, 0, 16, 14, 63, 0, 0, 0, 64)\n",
      "(108, 111, 1, 0, 0, 159, 56, 0, 0, 16, 14, 63, 0, 0, 0, 64)\n",
      "(108, 112, 0, 0, 0, 167, 48, 0, 0, 7, 23, 63, 0, 0, 0, 64)\n",
      "('opt', (108, 112, 0, 0, 0, 174, 41, 0, 0, 0, 30, 63, 0, 0, 0, 64))\n",
      "22.7176959515\n"
     ]
    }
   ],
   "source": [
    "load(\"LatticeBuchberger.sage\")\n",
    "\n",
    "start = time.time()#measuring the time\n",
    "\n",
    "#first row is for t\n",
    "optimizationOrder=['deglex',vector([\n",
    "                     1,1,1,1,\n",
    "                     4,3,2,1,\n",
    "                     7,5,3,1,\n",
    "                    10,7,4,1])]\n",
    "feasibleSolution=vector([68,119,26,7, 20,84,17,94, 15,54,14,10, 5,29,14,16])\n",
    "\n",
    "LatticeBuchberger.SolveOptimizationProblem(A,optimizationOrder,feasibleSolution)\n",
    "\n",
    "print(time.time() - start)#measuring the time"
   ]
  },
  {
   "cell_type": "code",
   "execution_count": null,
   "metadata": {
    "collapsed": true
   },
   "outputs": [],
   "source": []
  }
 ],
 "metadata": {
  "kernelspec": {
   "display_name": "SageMath 7.3",
   "language": "",
   "name": "sagemath"
  },
  "language_info": {
   "codemirror_mode": {
    "name": "ipython",
    "version": 2
   },
   "file_extension": ".py",
   "mimetype": "text/x-python",
   "name": "python",
   "nbconvert_exporter": "python",
   "pygments_lexer": "ipython2",
   "version": "2.7.10"
  }
 },
 "nbformat": 4,
 "nbformat_minor": 0
}
